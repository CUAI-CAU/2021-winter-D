{
  "nbformat": 4,
  "nbformat_minor": 0,
  "metadata": {
    "colab": {
      "name": "textrank_gensim.ipynb",
      "provenance": [],
      "collapsed_sections": []
    },
    "kernelspec": {
      "name": "python3",
      "display_name": "Python 3"
    },
    "language_info": {
      "name": "python"
    }
  },
  "cells": [
    {
      "cell_type": "code",
      "execution_count": null,
      "metadata": {
        "id": "NI0mAqeVb6BQ"
      },
      "outputs": [],
      "source": [
        "from gensim.summarization.summarizer import summarize"
      ]
    },
    {
      "cell_type": "code",
      "source": [
        "from google.colab import drive\n",
        "drive.mount('/content/drive')"
      ],
      "metadata": {
        "colab": {
          "base_uri": "https://localhost:8080/"
        },
        "id": "hfdpbeUVb_eC",
        "outputId": "61266f43-89e8-46b9-fd8d-a74dbc57c768"
      },
      "execution_count": null,
      "outputs": [
        {
          "output_type": "stream",
          "name": "stdout",
          "text": [
            "Mounted at /content/drive\n"
          ]
        }
      ]
    },
    {
      "cell_type": "code",
      "source": [
        "with open('/content/drive/MyDrive/쿠아이/동계컨퍼런스/적금_국민.txt', 'r') as kb_jeok_file:\n",
        "    kb_jeok = kb_jeok_file.read()\n",
        "with open('/content/drive/MyDrive/쿠아이/동계컨퍼런스/적금_기업.txt', 'r') as ibk_jeok_file:\n",
        "    ibk_jeok = ibk_jeok_file.read()\n",
        "with open('/content/drive/MyDrive/쿠아이/동계컨퍼런스/적금_신한.txt', 'r') as sh_jeok_file:\n",
        "    sh_jeok = sh_jeok_file.read()\n",
        "with open('/content/drive/MyDrive/쿠아이/동계컨퍼런스/적금_우리.txt', 'r') as woo_jeok_file:\n",
        "    woo_jeok = woo_jeok_file.read()\n",
        "with open('/content/drive/MyDrive/쿠아이/동계컨퍼런스/적금_하나.txt', 'r') as ha_jeok_file:\n",
        "    ha_jeok = ha_jeok_file.read()"
      ],
      "metadata": {
        "id": "3wAypbjwbybx"
      },
      "execution_count": null,
      "outputs": []
    },
    {
      "cell_type": "code",
      "source": [
        "print(summarize(kb_jeok, ratio = 0.05))"
      ],
      "metadata": {
        "colab": {
          "base_uri": "https://localhost:8080/"
        },
        "id": "WgD4LGKsbyic",
        "outputId": "f8dce47b-bcc2-44c5-8dce-f3ff853828f6"
      },
      "execution_count": null,
      "outputs": [
        {
          "output_type": "stream",
          "name": "stdout",
          "text": [
            "이 적금은 신규 시 다음의 9가지 우대이율 항목 중 6가지를 자유롭게 선택하고, 아래 우대이율 적용조건을 충족하는 경우 신규가입일 당시 영업점 및 KB국민은행 홈페이지에 게시한 우대이율을 적용합니다.\n",
            "이 적금의 신규일이 포함된 달부터 3개월이 경과한 달까지 50만원 이상 급여이체 실적주1)이 발생한 월수가 1개월 이상인 경우\n",
            "이 적금의 신규일이 포함된 달부터 3개월이 경과한 달까지 KB국민은행 입출금이자유로운예금을 통한 아파트관리비 자동이체 실적주2)이 있는 경우\n",
            "(플랜A, 플랜B 및 플랜D의 해외여행중 특별비용은 동일 사고에 대해 중복 보상 불가)\n"
          ]
        }
      ]
    },
    {
      "cell_type": "code",
      "source": [
        "print(summarize(kb_jeok))"
      ],
      "metadata": {
        "colab": {
          "base_uri": "https://localhost:8080/"
        },
        "id": "8j5IrX4Uh751",
        "outputId": "fc47af0a-ec9d-4463-aaac-2cdcff57f036"
      },
      "execution_count": null,
      "outputs": [
        {
          "output_type": "stream",
          "name": "stdout",
          "text": [
            "① “KB내맘대로적금(이하 ‘이 적금’이라 합니다)” 거래는 이 특약을 적용하며, 이 특약에서 정하지 않은 사항은 예금거래기본약관 및 적립식예금약관을 적용합니다.\n",
            "② 이 적금의 거래에 있어서 발생하는 전자금융거래에 관한 사항은 전자금융거래기본약관을 적용합니다.\n",
            "① 이 적금의 만기이율은 기본이율과 우대이율을 합하여 계약기간 동안 적용합니다.\n",
            "② 기본이율은 신규가입일 당시 영업점 및 KB국민은행 홈페이지에 게시한 계약기간별 이율을 적용하며, 우대이율은 제7조에서 정하는 조건을 충족하는 경우 적용합니다.\n",
            "이 적금은 신규 시 다음의 9가지 우대이율 항목 중 6가지를 자유롭게 선택하고, 아래 우대이율 적용조건을 충족하는 경우 신규가입일 당시 영업점 및 KB국민은행 홈페이지에 게시한 우대이율을 적용합니다.\n",
            "이 적금의 신규일이 포함된 달부터 3개월이 경과한 달까지 50만원 이상 급여이체 실적주1)이 발생한 월수가 1개월 이상인 경우\n",
            "이 적금의 신규일로부터 3개월이 속한 달의 말일 기준으로 KB국민카드 결제계좌가 KB국민은행 입출금이자유로운예금인 경우\n",
            "이 적금의 신규일이 포함된 달부터 3개월이 경과한 달까지 KB국민은행 입출금이자유로운예금을 통한 아파트관리비 자동이체 실적주2)이 있는 경우\n",
            "이 적금의 신규일로부터 3개월이 속한 달까지 KB스타뱅킹을 통한 이체 거래주3) 실적이 있는 경우\n",
            "이 적금의 신규 시에 예금주의 KB국민은행 거래기간이 5년 이상인 경우\n",
            "이 적금의 신규일로부터 3개월이 속한 달의 말일을 기준으로 주택청약종합저축을 보유한 경우\n",
            "이 적금의 신규 시에 본인에게 의미 있는 날을 입력하고, 해당일이 적금 계약기간 이내인 경우\n",
            "교통사고로 인한 상해로 사망 또는 후유장해가 발생한 경우\n",
            "해외여행(최대 90일) 도중 발생한 상해로 사망 또는 후유장해가 발생한 경우\n",
            "- 이 적금을 여러 계좌 가입하면서 동일한 플랜을 선택한 경우, 일부 담보는 동일 사고에 대해 중복 보상하지 않습니다.\n",
            "(플랜A, 플랜B 및 플랜D의 해외여행중 특별비용은 동일 사고에 대해 중복 보상 불가)\n"
          ]
        }
      ]
    },
    {
      "cell_type": "code",
      "source": [
        "print(summarize(ibk_jeok, ratio = 0.05))"
      ],
      "metadata": {
        "colab": {
          "base_uri": "https://localhost:8080/"
        },
        "id": "20yQZBgfbyoF",
        "outputId": "e5e16e2d-6f54-4405-8343-16ed6217ddda"
      },
      "execution_count": null,
      "outputs": [
        {
          "output_type": "stream",
          "name": "stdout",
          "text": [
            "이 적금은 만기일 이전에 중도해지를 신청하는 경우 입금액마다 입금일부터 해지일 전일까지의 기간에 대하여 가입일 당시 은행이 고시한 중도해지 금리를 적용합니다.\n",
            "이 적금은 만기일로부터 지급일 전일까지의 기간에 대하여 만기일 당시 은행이 고시한 만기 후 금리를 적용합니다.\n"
          ]
        }
      ]
    },
    {
      "cell_type": "code",
      "source": [
        "print(summarize(ibk_jeok))"
      ],
      "metadata": {
        "colab": {
          "base_uri": "https://localhost:8080/"
        },
        "id": "ba_q5oJeiRZx",
        "outputId": "46a6609b-d7f8-4689-95b3-6a0db2130f8c"
      },
      "execution_count": null,
      "outputs": [
        {
          "output_type": "stream",
          "name": "stdout",
          "text": [
            "이 적금의 계약기간은 6개월 이상 12개월 이하 일단위로 거래할 수 있습니다.\n",
            "이 적금의 월 적립금액은 계좌당 최소 1만원 이상 월 20만원 이하 천원 단위로 거래할 수 있습니다.\n",
            "이 적금은 가입일 당시 영업점 및 홈페이지에 게시한 계약기간 별 고시금리를 적용합니다.\n",
            "이 적금은 계약기간 중 다음 각 호의 요건을 충족하고 만기 해지하는 경우 해당 우대금리를 제공합니다.\n",
            "이 적금은 만기일 이전에 중도해지를 신청하는 경우 입금액마다 입금일부터 해지일 전일까지의 기간에 대하여 가입일 당시 은행이 고시한 중도해지 금리를 적용합니다.\n",
            "이 적금은 만기일로부터 지급일 전일까지의 기간에 대하여 만기일 당시 은행이 고시한 만기 후 금리를 적용합니다.\n",
            "② 은행은 이 약관을 변경하고자 할 때에는 변경약관 시행일 1개월 전에 한달간 영업점과 인터넷 홈페이지에 게시하여 거래처에 알린다.\n",
            "③ 약관변경의 내용이 거래처에 불리한 경우에는 변경약관 시행일 1개월 전에 다음 각 호의 방법으로 거래처에 알립니다.\n"
          ]
        }
      ]
    },
    {
      "cell_type": "code",
      "source": [
        "print(summarize(sh_jeok, ratio = 0.05))"
      ],
      "metadata": {
        "colab": {
          "base_uri": "https://localhost:8080/"
        },
        "id": "ThUnWh-lbytl",
        "outputId": "7c9a8fa1-d6be-4477-a2b3-3e56b06da7a7"
      },
      "execution_count": null,
      "outputs": [
        {
          "output_type": "stream",
          "name": "stdout",
          "text": [
            "예금주가 만기일 전에 예금을 찾고자 하는 경우에는 입금일로부터 예금을 찾는 날 전날까지의 기간에 대하여 가입일에 영업점 및 인터넷 홈페이지에 고시된 중도해지이자율에 의해 지급합니다.\n",
            "이 예금은 만기일 전영업일까지 2회에 한하여 일부해지가 가능하며, 일부해지금에 대한 이자는 선입선출법에 따라 제 12조에 의해 지급합니다.\n"
          ]
        }
      ]
    },
    {
      "cell_type": "code",
      "source": [
        "print(summarize(sh_jeok))"
      ],
      "metadata": {
        "colab": {
          "base_uri": "https://localhost:8080/"
        },
        "id": "-A0PzrpIikM_",
        "outputId": "45d793be-55cc-47fb-a1fb-649c1d01f4e9"
      },
      "execution_count": null,
      "outputs": [
        {
          "output_type": "stream",
          "name": "stdout",
          "text": [
            "이 예금의 신규 금액은 1천원 이상으로 합니다.\n",
            "① 이 예금의 기본이자율은 예금일 당시 영업점 또는 홈페이지에 고시된 이자율을 적용합니다.\n",
            "이 예금은 다음의 우대 요건을 충족하는 경우 신규 가입일 당시 영업점 및 신한은행 홈페이지에 게시한 우대이자율을 적용합니다.\n",
            "이 예금의 이자는 매 입금 건별로 입금일부터 만기일 전일까지의 기간에 대하여 이자를 셈하여 만기일 이후 예금주의 요청에 의해 지급합니다.\n",
            "예금주가 만기일 전에 예금을 찾고자 하는 경우에는 입금일로부터 예금을 찾는 날 전날까지의 기간에 대하여 가입일에 영업점 및 인터넷 홈페이지에 고시된 중도해지이자율에 의해 지급합니다.\n",
            "예금주가 만기일 후에 예금을 찾고자 하는 경우에는 만기일부터 예금을 찾는 날 전날까지의 기간에 대해 가입일 당시 영업점 또는 홈페이지에 고시된 (일반)정기적금의 만기 후 이자율로 계산한 이자를 더하여 지급하되, (일반)정기적금의 만기지급이자율이 변경된 경우 만기 후 이자율은 변경된 (일반)정기적금의 만기지급이자율을 기준으로 변경일로부터 기간 구분하여 단리 계산합니다.\n",
            "이 예금은 만기일 전영업일까지 2회에 한하여 일부해지가 가능하며, 일부해지금에 대한 이자는 선입선출법에 따라 제 12조에 의해 지급합니다.\n",
            "① 이 예금은 영업점 및 비대면 채널을 통해서 해지 가능하며 자동해지 서비스가 가능합니다.\n"
          ]
        }
      ]
    },
    {
      "cell_type": "code",
      "source": [
        "print(summarize(woo_jeok))"
      ],
      "metadata": {
        "colab": {
          "base_uri": "https://localhost:8080/"
        },
        "id": "C-4dNqBkby1m",
        "outputId": "8cca7ac6-0bb0-461f-f3c6-e4ed18c3dd03"
      },
      "execution_count": null,
      "outputs": [
        {
          "output_type": "stream",
          "name": "stdout",
          "text": [
            "③ 이 적금은 최대 월 50만원까지 저축할 수 있습니다.\n",
            "이 적금의 이자율은 영업점과 인터넷 홈페이지에 고시합니다.\n",
            "이 적금은 중도해지 시 신규일 당시 영업점 및 인터넷 홈페이지에 고시한 중도해지이율을 적용합니다.\n",
            "이 적금은 만기 후 해지 시 만기일 당시 영업점 및 인터넷 홈페이지에 고시한 만기후이율을 적용합니다.\n",
            "중도해지이율 및 만기후이율 추가 제6조外미적용\n",
            "6차 2020.09.01 우대이자율 추가 제8조 미적용\n"
          ]
        }
      ]
    },
    {
      "cell_type": "code",
      "source": [
        "print(summarize(woo_jeok, ratio=0.05))"
      ],
      "metadata": {
        "colab": {
          "base_uri": "https://localhost:8080/"
        },
        "id": "QQgrQAGuixmB",
        "outputId": "7a906fde-0287-4202-83fb-a9ad07f322d9"
      },
      "execution_count": null,
      "outputs": [
        {
          "output_type": "stream",
          "name": "stdout",
          "text": [
            "이 적금은 만기 후 해지 시 만기일 당시 영업점 및 인터넷 홈페이지에 고시한 만기후이율을 적용합니다.\n"
          ]
        }
      ]
    },
    {
      "cell_type": "code",
      "source": [
        "print(summarize(ha_jeok))"
      ],
      "metadata": {
        "colab": {
          "base_uri": "https://localhost:8080/"
        },
        "id": "1rgIo1Xkby8L",
        "outputId": "c4f6a727-4fe1-4d83-c295-e70c2d0d83c9"
      },
      "execution_count": null,
      "outputs": [
        {
          "output_type": "stream",
          "name": "stdout",
          "text": [
            "① 이 예금은 가입일에 자동 재예치를 선택한 경우 , 만기일에 최초 계약기간 단위로 총 3 회 자동 재예치되며 최소가입금액 1 만원을 제외한 나머지 세후원리금은 사전에 지정한 본인명의 입출금통장으로 이체됩니다\n",
            "① 이 예금은 적립금마다 입금일부터 만기일 전날까지의 기간에 대하여 예금 가입일(또는 재예치일) 당시 영업점 및 은행 홈페이지에 고시한 기본금리에 제9조 및 제10조에서 정한 금리를 더하여 월복리로 계산한 이자를 만기일에 일시 지급합니다.\n",
            "② 이 예금의 만기일 전에 지급을 청구한 때에는 적립금마다 입금일부터 지급일 전날까지 기간에 대해 예금가입일(또는 재예치일) 당시 영업점 및 은행 홈페이지에 고시한 중도해지금리를 단리로 셈한 이자를 지급합니다.\n",
            "③ 이 예금의 만기일 이후에 지급을 청구한 때에는 만기일부터 지급일 전일까지의 기간에 대하여 예금가입일(또는 재예치일) 당시 영업점 및 은행 홈페이지에 고시한 만기 후 금리를 단리로 셈한 이자를 지급합니다.\n",
            "① 이 예금은 가입후(또는 재예치후) 매 계약기간별 아래 항목을 충족하는 경우, 최대 연1.0%의 우대금리를 제8조 제1항의 기본금리에 가산하여 지급합니다.\n",
            "② 금리우대쿠폰을 발급받을 경우 제8조 제1항의 기본금리에 가산하여 우대금리를 지급합니다.\n",
            "단, 신규 가입시에만 쿠폰 사용이 가능하며, 재예치 또는 중도해지시에는 적용되지 않습니다.\n",
            "이 예금을 계약기간 1년으로 가입하고, 아래 항목을 모두 충족하는 경우, 최초 1년에 한하여 연1.3%의 특별금리를 제8조 제1항의 기본금리에 가산하여 1회 지급합니다.\n",
            "영업점 창구를 통해 아래 사유별 증빙서류를 제출하고 중도해지 하는 경우, 이 예금 가입일(또는 재예치일)에 고시한 계약기간별 기본금리를 적용합니다.\n",
            "① 일부해지는 가입후(또는 재예치후) 매 계약기간동안 2회까지 입금건별 균등계산방식에 따라 가능하며, 일부 해지금액에 대하여 가입일(또는 재예치일)에 고시한 중도해지금리를 적용합니다.\n"
          ]
        }
      ]
    },
    {
      "cell_type": "code",
      "source": [
        "print(summarize(ha_jeok, ratio = 0.05))"
      ],
      "metadata": {
        "colab": {
          "base_uri": "https://localhost:8080/"
        },
        "id": "jnpaVaA6dx4o",
        "outputId": "fa64e10d-eabc-440f-9e47-50a89b2a510f"
      },
      "execution_count": null,
      "outputs": [
        {
          "output_type": "stream",
          "name": "stdout",
          "text": [
            "① 이 예금은 적립금마다 입금일부터 만기일 전날까지의 기간에 대하여 예금 가입일(또는 재예치일) 당시 영업점 및 은행 홈페이지에 고시한 기본금리에 제9조 및 제10조에서 정한 금리를 더하여 월복리로 계산한 이자를 만기일에 일시 지급합니다.\n",
            "② 이 예금의 만기일 전에 지급을 청구한 때에는 적립금마다 입금일부터 지급일 전날까지 기간에 대해 예금가입일(또는 재예치일) 당시 영업점 및 은행 홈페이지에 고시한 중도해지금리를 단리로 셈한 이자를 지급합니다.\n"
          ]
        }
      ]
    },
    {
      "cell_type": "code",
      "source": [
        "with open('/content/drive/MyDrive/쿠아이/동계컨퍼런스/청년주택_기업.txt', 'r') as ibk_ju_file:\n",
        "    ibk_ju = ibk_ju_file.read()"
      ],
      "metadata": {
        "id": "N_ZePEjcd1UG"
      },
      "execution_count": null,
      "outputs": []
    },
    {
      "cell_type": "code",
      "source": [
        "print(summarize(ibk_ju))"
      ],
      "metadata": {
        "colab": {
          "base_uri": "https://localhost:8080/"
        },
        "id": "meqjyNJyd1Zl",
        "outputId": "f94f1303-9151-4c32-acdd-1c07d735e37b"
      },
      "execution_count": null,
      "outputs": [
        {
          "output_type": "stream",
          "name": "stdout",
          "text": [
            "① 이 저축의 가입대상은 만19세 이상 만34세 이하의 거주자로서 다음 각 호의 요건을 모두 충족하여야 합니다.\n",
            "가. 직전년도의 소득세법 상 종합소득(이자소득,배당소득,연금소득은 제외)이 3천6백만원 이하이고 소득세 신고‧납부 이행이 증빙된 고객.\n",
            "단, 직전년도의 소득서류가 확정되지 않은 기간에 가입하는 경우 전전년도의 소득을 인정합니다.\n",
            "2. 다음 각목의 세대주 요건 중 어느 하나에 해당하여야 합니다.\n",
            "가. 가입자가 주택을 소유하지 않은 세대주(연속하여 3개월 이상 세대주)일 것\n",
            "나. 가입자가 주택을 소유하지 않은 자로서, 가입일로부터 3년 이내에 세대주(연속하여 3개월 이상 세대주)가 될 예정일 것\n",
            "이 저축의 월 납입금은 매월 약정 납입일에 2만원 이상 50만원 이하로 합니다.\n",
            "이 저축의 원금 및 이자는 가입자가 이 저축을 해지할 때 일시에 지급합니다.\n"
          ]
        }
      ]
    },
    {
      "cell_type": "code",
      "source": [
        "print(summarize(ibk_ju, ratio=0.05))"
      ],
      "metadata": {
        "colab": {
          "base_uri": "https://localhost:8080/"
        },
        "id": "6r6n_1gqjPmd",
        "outputId": "bf014ee5-dc27-4c53-fbf5-99e7bd1a95e4"
      },
      "execution_count": null,
      "outputs": [
        {
          "output_type": "stream",
          "name": "stdout",
          "text": [
            "가. 직전년도의 소득세법 상 종합소득(이자소득,배당소득,연금소득은 제외)이 3천6백만원 이하이고 소득세 신고‧납부 이행이 증빙된 고객.\n",
            "이 저축의 원금 및 이자는 가입자가 이 저축을 해지할 때 일시에 지급합니다.\n"
          ]
        }
      ]
    },
    {
      "cell_type": "code",
      "source": [
        "with open('/content/drive/MyDrive/쿠아이/동계컨퍼런스/카카오_26주적금.txt', 'r') as ka_jeok_file:\n",
        "    ka_jeok = ka_jeok_file.read()\n",
        "with open('/content/drive/MyDrive/쿠아이/동계컨퍼런스/카카오_모임통장.txt', 'r') as ka_mo_file:\n",
        "    ka_mo = ka_mo_file.read()\n",
        "with open('/content/drive/MyDrive/쿠아이/동계컨퍼런스/카카오_세이프박스.txt', 'r') as ka_safe_file:\n",
        "    ka_safe = ka_safe_file.read()\n",
        "with open('/content/drive/MyDrive/쿠아이/동계컨퍼런스/카카오_저금통.txt', 'r') as ka_jeo_file:\n",
        "    ka_jeo = ka_jeo_file.read()"
      ],
      "metadata": {
        "id": "MitxscczXSLi"
      },
      "execution_count": null,
      "outputs": []
    },
    {
      "cell_type": "code",
      "source": [
        "print(summarize(ka_jeok))"
      ],
      "metadata": {
        "colab": {
          "base_uri": "https://localhost:8080/"
        },
        "id": "XvGxLt-8XSRp",
        "outputId": "989cf4f7-8566-4330-c2db-a90e0650efbb"
      },
      "execution_count": null,
      "outputs": [
        {
          "output_type": "stream",
          "name": "stdout",
          "text": [
            "이 적금은 가입일 당시 카카오뱅크 모바일앱 이하 모바일앱 이라 한다 ) 및 인터넷홈페이지에 게시된 이 적금의 계약기간별 금리를 적용합니다 .\n",
            "3. 자동이체 종료일은 이 서비스 가입일로부터 26 주에 해당하는 날이며 변경은 불가합니다\n",
            "5. 이 서비스는 모바일앱 자동이체 조회 화면에서 조회 및 해지가 가능합니다\n",
            "①제8 조의 26 주적금서비스를 통해 1 주차부터 7 주차까지 자동이체 납입에 연속 성공한 경우 연 0.20%p 제공\n",
            "②제8 조의 26 주적금서비스를 통해 1 주차부터 26 주차까지 자동이체 납입에 연속 성공하는 경우 연 0.30%p 추가 제공\n",
            "① 이 적금의 가입일로부터 만기일 이전까지 고객이 만기 시 자동해지에 동의한 경우에는 만기일에 본인의 실명확인된 입출금이자유로운예금 이하 근거계좌 라 한다 으로 이 적금을 자동해지하여 입금처리 합니다\n",
            "이 적금의 긴급출금은 가입일로부터 만기일 전일까지 최대 2 회까지 가능하며, 긴급출금 시에는 먼저 납입한 금액부터 출금됩니다.\n",
            "만기일 전에 해지를 요청하는 경우 가입일로부터 해지일 전일까지의 기간에 대하여 가입일 당시 모바일앱 및 인터넷홈페이지에 게시한 기간별 중도해지금리를 적용합니다.\n",
            "만기일 이후 해지를 요청하는 경우 만기일로부터 해지일 전일까지의 기간에 대하여 가입일 당시 모바일앱 및 인터넷홈페이지에 게시한 기간별 만기후금리를 적용합니다.\n"
          ]
        }
      ]
    },
    {
      "cell_type": "code",
      "source": [
        "print(summarize(ka_jeok, ratio=0.05))"
      ],
      "metadata": {
        "colab": {
          "base_uri": "https://localhost:8080/"
        },
        "id": "qscR3j9UjdaT",
        "outputId": "16144670-2a7e-4b98-88e8-f59f2d0f30a7"
      },
      "execution_count": null,
      "outputs": [
        {
          "output_type": "stream",
          "name": "stdout",
          "text": [
            "이 적금은 가입일 당시 카카오뱅크 모바일앱 이하 모바일앱 이라 한다 ) 및 인터넷홈페이지에 게시된 이 적금의 계약기간별 금리를 적용합니다 .\n",
            "만기일 전에 해지를 요청하는 경우 가입일로부터 해지일 전일까지의 기간에 대하여 가입일 당시 모바일앱 및 인터넷홈페이지에 게시한 기간별 중도해지금리를 적용합니다.\n"
          ]
        }
      ]
    },
    {
      "cell_type": "code",
      "source": [
        "print(summarize(ka_mo))"
      ],
      "metadata": {
        "colab": {
          "base_uri": "https://localhost:8080/"
        },
        "id": "2FuTyJ5XX--r",
        "outputId": "30a19e23-82e0-4696-c7ee-46ab3419ccb3"
      },
      "execution_count": null,
      "outputs": [
        {
          "output_type": "stream",
          "name": "stdout",
          "text": [
            "3. 모임통장 서비스 라 함은 카카오뱅크 모바일앱을 통해 제공되 는 회비조회 회비납부 멤버 관리 등의 모임 관련 서비스를 말합니다.\n",
            "4. 모임통장 대상계좌 라 함은 카카오뱅크에 본인 명의의 입출금이자유로운예금 계좌를 보유한 고객이 자신의 계좌에 대한 모임통장서비스를 신청한 경우 신청의 대상이 된 해당 계좌를 말합니다.\n",
            "5. 모임주 라 함은 카카오뱅크에 본인 명의의 입출금이자유로운예금 계좌를 보유한 고객이 자신의 계좌에 대 해 모임통장서비스를 신청 하고 모임통장서비스 이용약관에 동의 한 경우 해당 계좌를 보유한 명의인을 말합니다.\n",
            "① 모임주가 모임통장서비스를 이용하고자 하는 경우에는 카카오 톡 계정을 가지고 있어야 하며, 모바일앱에서 이 약관에 동의하여 카카오뱅크에 모임통장서비스를 신청하여야 합니다.\n",
            "③ 모임 멤버 로서 모임통장서비스 이용 을 개시하려는 자는 카카오 톡 계정을 가지고 있어야 하며 모바일앱에서 이 약관에 동의하고 모임주 가 발송한 모임멤버 초대 요청 을 수락하여야 합니다.\n",
            "④ 카 카오뱅크는 모임통장 대상계좌에 다음 각 호의 어느 하나에 해당하는 사유가 있는 경우 모임통장서비스 신청을 수락하지 않을 수 있습니다\n",
            "1. 모임통장 대상계좌가 마이너스통장 대출 비상금 대출 등 한도 대출에 연결되어 있거나 대출 원리금 납부 계좌인 경우\n",
            "② 카카오뱅크는 모임주 또는 모임통장 대상계좌에 다음 각 호의 어느 하나에 해당하는 사유가 있는 경우 모임통장서비스의 이용을 일시적으로 제한할 수있습니다.\n",
            "이 경우 모임주 및 모임멤버 모두에 대한 서비스 가 중단되고 해당 내용이 고지되며 서비스 이용 재개를 위해서는 모임주가 모바일앱 등을 통해 모임통장서비스 이용제한 해제를 신청하여야 합니다.\n",
            "① 카카오뱅크는 다음 각 호의 어느 하나에 해당하는 사유가 있는 경우 모임통장서비스의 제공을 일시적으로 중단하거나 제한할 수 있습니다.\n",
            "② 카카오뱅크는 제 1항 각호에 따라 모임통장서비스의 이용을 일시 중단 또는 제한하고자 하는 경우에는 그 사유와 내용을 사전에 전화, 서면, 모바일앱, 이메일 또는 기타 전자적 장치 등으로 고객에게 공지하거나 통지합니다.\n",
            "① 모임주 또는 모임멤버가 모임통장서비스를 해지하려면 모바일앱 등을 통해 모임통장서비스 해지를 신청하여야 합니다.\n",
            "② 카카오뱅크는 모임통장서비스 이용 중 다음 각 호의 어느 하나에 해당하는 사유가 있는 경우 모임통장서비스 이용 계약을 해지할 수 있습니다.\n",
            "③ 카카오뱅크는 위 제 2 항 각호에 따라 모임통장서비스 이용계약을 해지하는 경우 부득이한 사유가 없는 한 고객에게 전화, 서면, 이메일, 앱푸시 또는 기타 전자적 장치 등으로 알리는 것을 원칙으로 합니다.\n",
            "① 카카오뱅크는 제 5 조(서비스 이용 시 제한사항), 제 7 조(서비스의 중단), 제 8 조(서비스의 해지), 제 10 조(이용자의 의무)에서 정한 경우를 제외하고 이 약관에서 정한 바에 따라 고객에게 모임통장서비스를 지속적, 안정적으로 제공해야 합니다.\n",
            "고객이 이를 위반한 경우에 카카오뱅크는 고객의 서비스 이용을 제한 또는 중지할 수 있습니다.\n",
            "① 모임주는 모임통장 대상계좌 관련 정보를 모임 멤버 에게 제공하기 위해 카카오뱅크 의 모바일앱 등을 이용할 수 있 습니다 이 경우 모임주 가 직접 자신의 책임 하에 정보를 모임 멤버 에게 게시 · 전달하는것으로 보며 카카오뱅크는 모임주의 정보 전달과 관련하여 그 내역 등 을 기록 관리 통보 할 의무 등을 부담하지 않습니다.\n"
          ]
        }
      ]
    },
    {
      "cell_type": "code",
      "source": [
        "print(summarize(ka_mo,ratio=0.05))"
      ],
      "metadata": {
        "colab": {
          "base_uri": "https://localhost:8080/"
        },
        "id": "mogpb_HZjs1R",
        "outputId": "9295a98f-ae7b-4969-82ee-c6461db61f21"
      },
      "execution_count": null,
      "outputs": [
        {
          "output_type": "stream",
          "name": "stdout",
          "text": [
            "④ 카 카오뱅크는 모임통장 대상계좌에 다음 각 호의 어느 하나에 해당하는 사유가 있는 경우 모임통장서비스 신청을 수락하지 않을 수 있습니다\n",
            "② 카카오뱅크는 모임주 또는 모임통장 대상계좌에 다음 각 호의 어느 하나에 해당하는 사유가 있는 경우 모임통장서비스의 이용을 일시적으로 제한할 수있습니다.\n",
            "이 경우 모임주 및 모임멤버 모두에 대한 서비스 가 중단되고 해당 내용이 고지되며 서비스 이용 재개를 위해서는 모임주가 모바일앱 등을 통해 모임통장서비스 이용제한 해제를 신청하여야 합니다.\n",
            "① 모임주는 모임통장 대상계좌 관련 정보를 모임 멤버 에게 제공하기 위해 카카오뱅크 의 모바일앱 등을 이용할 수 있 습니다 이 경우 모임주 가 직접 자신의 책임 하에 정보를 모임 멤버 에게 게시 · 전달하는것으로 보며 카카오뱅크는 모임주의 정보 전달과 관련하여 그 내역 등 을 기록 관리 통보 할 의무 등을 부담하지 않습니다.\n"
          ]
        }
      ]
    },
    {
      "cell_type": "code",
      "source": [
        "print(summarize(ka_safe))"
      ],
      "metadata": {
        "colab": {
          "base_uri": "https://localhost:8080/"
        },
        "id": "SqyEKpvxX_YS",
        "outputId": "beedd575-48c1-4023-d385-bcde94f30d5c"
      },
      "execution_count": null,
      "outputs": [
        {
          "output_type": "stream",
          "name": "stdout",
          "text": [
            "이 통장의 예금과목은 보통예금으로 합니다.\n",
            "이 통장의 가입대상은 만 17 세 이상의 실명의 개인으로 합니다\n",
            "이 통장은 실명확인된 입출금이자유로운예금 (이하 근거계좌 라 한다) 을 통해서만 연결 신규가 가능하며 근거계좌당 1개씩 만들 수 있습니다\n",
            "② 이 통장의 입금한도는 고객이 요청하는 경우 1 억 원으로 증액이 가능하며 증액 이후 기본 입금한도로 감액은 불가합니다\n",
            "② 이 통장은 근거계좌에서의 이체를 통해서만 입금이 가능하며 , 그 외의 입금은 모두 제한이 됩니다 .\n",
            "① 이 통장은 근거계좌로의 이체를 통해서만 출금이 가능하며 , 그 외의 출금은 모두 제한이 됩니다\n"
          ]
        }
      ]
    },
    {
      "cell_type": "code",
      "source": [
        "print(summarize(ka_safe, ratio=0.05))"
      ],
      "metadata": {
        "colab": {
          "base_uri": "https://localhost:8080/"
        },
        "id": "ayC9oliej8J4",
        "outputId": "f850762e-5f20-4d30-c29d-e6a26b319dd7"
      },
      "execution_count": null,
      "outputs": [
        {
          "output_type": "stream",
          "name": "stdout",
          "text": [
            "② 이 통장은 근거계좌에서의 이체를 통해서만 입금이 가능하며 , 그 외의 입금은 모두 제한이 됩니다 .\n"
          ]
        }
      ]
    },
    {
      "cell_type": "code",
      "source": [
        "print(summarize(ka_jeo))"
      ],
      "metadata": {
        "colab": {
          "base_uri": "https://localhost:8080/"
        },
        "id": "Z52oODzJX_e5",
        "outputId": "95d999d5-2909-48c6-ebdf-1d826c9adeb5"
      },
      "execution_count": null,
      "outputs": [
        {
          "output_type": "stream",
          "name": "stdout",
          "text": [
            "①이 통장은 실명확인된 입출금이자유로운예금 (이하 근거계좌 라 한다) 을 통해서만 연결 신규가 가능합니다.\n",
            "② 이 통장은 자동저축서비스를 통한 입금만 가능하며 , 그 외의 입금은 모두 제한이 됩니다.\n",
            "① 이 통장은 근거계좌로의 이체를 통해서만 출금이 가능하며 , 그 외의 출금은 모두 제한이 됩니다.\n",
            "② 이 통장은 전액 출금만 가능하며 부분 출금은 제한 됩니다.\n",
            "이 통장은 가입일 당시 카카오뱅크 모바일앱 및 인터넷홈페이지에 게시된 이 통장의 금리를 적용하며 , 금리가 변경된 경우에는 변경일로부터 변경된 금리를 적용합니다.\n",
            "3. 동전모으기 저축은 저축시점 근거계좌의 잔액이 1천원 이하인 경우에는 실시되지 않습니다.\n",
            "② 근거계좌의 저축 가능 금액을 예측하여 자동으로 이 통장에 이체해주는 「자동모으기」 규칙은 아래 각 호와 같습니다.\n",
            "4. 자동모으기 저축은 저축시점 근거계좌의 잔액이 1만원 이하인 경우에는 실시되지 않습니다.\n"
          ]
        }
      ]
    },
    {
      "cell_type": "code",
      "source": [
        "print(summarize(ka_jeo, ratio=0.05))"
      ],
      "metadata": {
        "id": "SAiWZcx5kKwR",
        "outputId": "de6167ff-d5ba-4d89-c311-77e2227b8495",
        "colab": {
          "base_uri": "https://localhost:8080/"
        }
      },
      "execution_count": null,
      "outputs": [
        {
          "output_type": "stream",
          "name": "stdout",
          "text": [
            "①이 통장은 실명확인된 입출금이자유로운예금 (이하 근거계좌 라 한다) 을 통해서만 연결 신규가 가능합니다.\n",
            "4. 자동모으기 저축은 저축시점 근거계좌의 잔액이 1만원 이하인 경우에는 실시되지 않습니다.\n"
          ]
        }
      ]
    },
    {
      "cell_type": "code",
      "source": [
        ""
      ],
      "metadata": {
        "id": "QXoQPBF3X_k6"
      },
      "execution_count": null,
      "outputs": []
    },
    {
      "cell_type": "code",
      "source": [
        ""
      ],
      "metadata": {
        "id": "ZVdvCH8_XSWz"
      },
      "execution_count": null,
      "outputs": []
    },
    {
      "cell_type": "code",
      "source": [
        ""
      ],
      "metadata": {
        "id": "E32omw2XXSbs"
      },
      "execution_count": null,
      "outputs": []
    }
  ]
}